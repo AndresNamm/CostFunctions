{
  "cells": [
    {
      "cell_type": "markdown",
      "metadata": {
        "id": "view-in-github",
        "colab_type": "text"
      },
      "source": [
        "<a href=\"https://colab.research.google.com/github/AndresNamm/CostFunctions/blob/main/LogisticRegression.ipynb\" target=\"_parent\"><img src=\"https://colab.research.google.com/assets/colab-badge.svg\" alt=\"Open In Colab\"/></a>"
      ]
    },
    {
      "cell_type": "code",
      "execution_count": 4,
      "metadata": {
        "colab": {
          "base_uri": "https://localhost:8080/",
          "height": 178
        },
        "id": "ehjFT6MVne8Z",
        "outputId": "b6d3d479-7946-404f-eb6b-e3373f7e726e"
      },
      "outputs": [
        {
          "output_type": "execute_result",
          "data": {
            "text/plain": [
              "Age          int64\n",
              "Salary       int64\n",
              "Purchased    int64\n",
              "dtype: object"
            ],
            "text/html": [
              "<div>\n",
              "<style scoped>\n",
              "    .dataframe tbody tr th:only-of-type {\n",
              "        vertical-align: middle;\n",
              "    }\n",
              "\n",
              "    .dataframe tbody tr th {\n",
              "        vertical-align: top;\n",
              "    }\n",
              "\n",
              "    .dataframe thead th {\n",
              "        text-align: right;\n",
              "    }\n",
              "</style>\n",
              "<table border=\"1\" class=\"dataframe\">\n",
              "  <thead>\n",
              "    <tr style=\"text-align: right;\">\n",
              "      <th></th>\n",
              "      <th>0</th>\n",
              "    </tr>\n",
              "  </thead>\n",
              "  <tbody>\n",
              "    <tr>\n",
              "      <th>Age</th>\n",
              "      <td>int64</td>\n",
              "    </tr>\n",
              "    <tr>\n",
              "      <th>Salary</th>\n",
              "      <td>int64</td>\n",
              "    </tr>\n",
              "    <tr>\n",
              "      <th>Purchased</th>\n",
              "      <td>int64</td>\n",
              "    </tr>\n",
              "  </tbody>\n",
              "</table>\n",
              "</div><br><label><b>dtype:</b> object</label>"
            ]
          },
          "metadata": {},
          "execution_count": 4
        }
      ],
      "source": [
        "import numpy as np\n",
        "import pandas as pd\n",
        "\n",
        "\n",
        "# Dataset\n",
        "data = {\n",
        "    'Age': [22, 25, 47, 52, 46, 56, 26, 27, 48, 50],\n",
        "    'Salary': [50000, 60000, 150000, 200000, 90000, 160000, 80000, 58000, 140000, 135000],\n",
        "    'Purchased': [0, 0, 1, 1, 1, 1, 0, 0, 1, 1]\n",
        "}\n",
        "\n",
        "df = pd.DataFrame(data)\n",
        "\n",
        "df.dtypes"
      ]
    },
    {
      "cell_type": "markdown",
      "source": [
        "[More on sigmoid and general logistic functions](https://github.com/AndresNamm/CostFunctions/blob/main/ClassPredictionFunctions.ipynb)"
      ],
      "metadata": {
        "id": "iQV5sb0Umova"
      }
    },
    {
      "cell_type": "code",
      "execution_count": 12,
      "metadata": {
        "id": "iO8ThK0vmiWz",
        "outputId": "4f74539f-06bf-478f-e0de-4d7a607416a6",
        "colab": {
          "base_uri": "https://localhost:8080/"
        }
      },
      "outputs": [
        {
          "output_type": "execute_result",
          "data": {
            "text/plain": [
              "-25.8099679936351"
            ]
          },
          "metadata": {},
          "execution_count": 12
        }
      ],
      "source": [
        "\n",
        "# Define a numerically stable sigmoid function\n",
        "def sigmoid(z):\n",
        "    z = np.clip(z, -500, 500)  # Prevent overflow in exp\n",
        "    return 1 / (1 + np.exp(-z))\n",
        "\n",
        "\n",
        "# Parameters\n",
        "beta_0 = 0.0\n",
        "beta_1 = 0.01\n",
        "beta_2 = 0.0001\n",
        "\n",
        "\n",
        "# Compute predicted probabilities\n",
        "df['LinearComb'] = float(beta_0) + beta_1 * df['Age'] + beta_2 * df['Salary'].astype(float)\n",
        "df['PredictedProb'] = sigmoid(df['LinearComb'])\n",
        "\n",
        "# Compute binary log-likelihood aka cost\n",
        "df['LogLikelihood'] = df['Purchased'].astype(float) * np.log(df['PredictedProb']) + (1 - df['Purchased'].astype(float)) * np.log(1 - df['PredictedProb'])\n",
        "log_likelihood = df['LogLikelihood'].sum()\n",
        "\n",
        "log_likelihood\n",
        "\n"
      ]
    },
    {
      "cell_type": "markdown",
      "source": [
        "[Reference How Negative Binary Log Likelihood Cost function behaves with different examples](https://github.com/AndresNamm/CostFunctions/blob/main/BinaryNegativeLikelihoodVisualization.ipynb)"
      ],
      "metadata": {
        "id": "rmcYQsLksfcD"
      }
    },
    {
      "cell_type": "markdown",
      "source": [],
      "metadata": {
        "id": "CuD-oAQWm1Sr"
      }
    },
    {
      "cell_type": "code",
      "execution_count": 13,
      "metadata": {
        "colab": {
          "base_uri": "https://localhost:8080/"
        },
        "id": "ZGOF9nT1q0F_",
        "outputId": "0c493c90-b508-4e1a-c84d-9b1fdf9d4155"
      },
      "outputs": [
        {
          "output_type": "stream",
          "name": "stdout",
          "text": [
            "Final log-likelihood: -138.15830396936352\n"
          ]
        }
      ],
      "source": [
        "import numpy as np\n",
        "\n",
        "\n",
        "learning_rate = 0.001\n",
        "num_iterations = 1000\n",
        "\n",
        "# Extract columns from the DataFrame as NumPy arrays for faster computations\n",
        "age = df['Age'].values\n",
        "salary = df['Salary'].values\n",
        "purchased = df['Purchased'].values\n",
        "\n",
        "# Initialize coefficients: beta_0, beta_1, beta_2\n",
        "beta = np.array([0.01, 0.01, 0.0001])\n",
        "\n",
        "for i in range(num_iterations):\n",
        "    # Compute the linear combination: beta_0 + beta_1 * age + beta_2 * salary\n",
        "    linear_comb = beta[0] + beta[1] * age + beta[2] * salary\n",
        "\n",
        "    # Compute predicted probabilities using the stable sigmoid function\n",
        "    predicted_prob = sigmoid(linear_comb)\n",
        "\n",
        "    # Calculate error (difference between predictions and actual values)\n",
        "    error = predicted_prob - purchased\n",
        "\n",
        "    # Compute gradients for each coefficient\n",
        "    gradient_beta_0 = np.sum(error)\n",
        "    gradient_beta_1 = np.dot(error, age)\n",
        "    gradient_beta_2 = np.dot(error, salary)\n",
        "\n",
        "    # Update coefficients\n",
        "    beta[0] -= learning_rate * gradient_beta_0\n",
        "    beta[1] -= learning_rate * gradient_beta_1\n",
        "    beta[2] -= learning_rate * gradient_beta_2\n",
        "\n",
        "# For computing the log-likelihood, clip predicted probabilities to avoid log(0)\n",
        "epsilon = 1e-15\n",
        "predicted_prob = np.clip(predicted_prob, epsilon, 1 - epsilon)\n",
        "log_likelihood = np.sum(purchased * np.log(predicted_prob) +\n",
        "                          (1 - purchased) * np.log(1 - predicted_prob))\n",
        "\n",
        "print(f\"Final log-likelihood: {log_likelihood}\")\n"
      ]
    },
    {
      "cell_type": "code",
      "source": [
        "df"
      ],
      "metadata": {
        "id": "pAGuhzT4tIvJ",
        "outputId": "2c336129-0d94-47d0-dcb8-040f4d1ff19d",
        "colab": {
          "base_uri": "https://localhost:8080/"
        }
      },
      "execution_count": 11,
      "outputs": [
        {
          "output_type": "execute_result",
          "data": {
            "text/plain": [
              "array([1., 1., 1., 1., 1., 1., 1., 1., 1., 1.])"
            ]
          },
          "metadata": {},
          "execution_count": 11
        }
      ]
    }
  ],
  "metadata": {
    "colab": {
      "provenance": [],
      "include_colab_link": true
    },
    "kernelspec": {
      "display_name": ".venv",
      "language": "python",
      "name": "python3"
    },
    "language_info": {
      "codemirror_mode": {
        "name": "ipython",
        "version": 3
      },
      "file_extension": ".py",
      "mimetype": "text/x-python",
      "name": "python",
      "nbconvert_exporter": "python",
      "pygments_lexer": "ipython3",
      "version": "3.12.3"
    }
  },
  "nbformat": 4,
  "nbformat_minor": 0
}